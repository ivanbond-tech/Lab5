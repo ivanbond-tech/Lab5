{
 "cells": [
  {
   "cell_type": "code",
   "execution_count": 11,
   "metadata": {},
   "outputs": [
    {
     "name": "stdin",
     "output_type": "stream",
     "text": [
      "Enter your name:  Sid\n",
      "Enter your birthday (mm/dd):  13/32\n"
     ]
    },
    {
     "name": "stdout",
     "output_type": "stream",
     "text": [
      "Oops! Please enter your birthday in the format mm/dd. Also make sure you're entering a valid date!\n"
     ]
    }
   ],
   "source": [
    "from datetime import *\n",
    "\n",
    "def birthday_calculator():\n",
    "    # Gather information from user\n",
    "    name = input(\"Enter your name: \")\n",
    "    birthday = input(\"Enter your birthday (mm/dd): \")\n",
    "\n",
    "    ## TODO error check input is in correct format\n",
    "    \n",
    "    possible_months = [i for i in range(1, 13)]\n",
    "    possible_days = [31, 28, 31, 30, 31, 30, 31, 31, 30, 31, 30, 31]\n",
    "    #print(possible_months)\n",
    "    \n",
    "    if(birthday[:2].isnumeric() and (birthday[2] == \"/\") and birthday[3:].isnumeric() and (int(birthday[:2]) in possible_months) and (int(birthday[3:]) in range(1, possible_days[int(birthday[:2])] + 1))):\n",
    "        birthday = birthday.split(\"/\")\n",
    "        birth_month = int(birthday[0])\n",
    "        birth_day = int(birthday[1])\n",
    "\n",
    "        # Set current year for birthday\n",
    "        current_year = date.today().year\n",
    "        birthday = date(current_year, birth_month, birth_day)\n",
    "\n",
    "        # Calculate how many days until birthday\n",
    "        days_to_birthday = birthday - date.today()\n",
    "\n",
    "        # If birthday already occured this year,\n",
    "        # set birthday year to next year\n",
    "        if (days_to_birthday.days < 0):\n",
    "            birthday = date(current_year+1, birth_month, birth_day)\n",
    "            days_to_birthday = birthday - date.today()\n",
    "            print(f\"Hi {name}, your birthday is in {days_to_birthday.days} days!\")\n",
    "\n",
    "        # If birthday is today\n",
    "        elif (days_to_birthday.days == 0):\n",
    "            print(f\"Happy Birthday {name}!\")\n",
    "\n",
    "        # Print result\n",
    "        else:\n",
    "            print(f\"Hi {name}, your birthday is in {days_to_birthday.days} days!\")\n",
    "    else:\n",
    "        print(\"Oops! Please enter your birthday in the format mm/dd. Also make sure you're entering a valid date!\")\n",
    "birthday_calculator()"
   ]
  },
  {
   "cell_type": "code",
   "execution_count": null,
   "metadata": {},
   "outputs": [],
   "source": []
  }
 ],
 "metadata": {
  "kernelspec": {
   "display_name": "Python 3",
   "language": "python",
   "name": "python3"
  },
  "language_info": {
   "codemirror_mode": {
    "name": "ipython",
    "version": 3
   },
   "file_extension": ".py",
   "mimetype": "text/x-python",
   "name": "python",
   "nbconvert_exporter": "python",
   "pygments_lexer": "ipython3",
   "version": "3.8.3"
  }
 },
 "nbformat": 4,
 "nbformat_minor": 4
}
